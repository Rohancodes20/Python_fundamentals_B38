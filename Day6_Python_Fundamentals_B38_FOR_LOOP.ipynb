{
 "cells": [
  {
   "cell_type": "code",
   "execution_count": 1,
   "metadata": {},
   "outputs": [],
   "source": [
    "students=['rohan','kiran','pushkar','ian','milind','ramesh','naresh','sachin','shailen']"
   ]
  },
  {
   "cell_type": "code",
   "execution_count": 4,
   "metadata": {},
   "outputs": [
    {
     "ename": "SyntaxError",
     "evalue": "closing parenthesis '}' does not match opening parenthesis '(' (<ipython-input-4-7bc56ffddb3d>, line 2)",
     "output_type": "error",
     "traceback": [
      "\u001b[1;36m  File \u001b[1;32m\"<ipython-input-4-7bc56ffddb3d>\"\u001b[1;36m, line \u001b[1;32m2\u001b[0m\n\u001b[1;33m    print(f\"Keep up the good work, {x.title()\"}\u001b[0m\n\u001b[1;37m                                              ^\u001b[0m\n\u001b[1;31mSyntaxError\u001b[0m\u001b[1;31m:\u001b[0m closing parenthesis '}' does not match opening parenthesis '('\n"
     ]
    }
   ],
   "source": [
    "for x in students:\n",
    " print(f\"Keep up the good work, {x.title()\"}"
   ]
  },
  {
   "cell_type": "code",
   "execution_count": 10,
   "metadata": {},
   "outputs": [],
   "source": [
    "#using for loop\n",
    "#for loop sytax\n",
    "\n",
    "# for tempvar in main var:\n",
    "    print(tempvar)\n",
    "    \n",
    "#tempvar is temporary variable (x), mainvar is main variable (students)"
   ]
  },
  {
   "cell_type": "code",
   "execution_count": null,
   "metadata": {},
   "outputs": [],
   "source": []
  },
  {
   "cell_type": "code",
   "execution_count": 5,
   "metadata": {},
   "outputs": [
    {
     "name": "stdout",
     "output_type": "stream",
     "text": [
      "Keep up the good work, Rohan\n",
      "Keep up the good work, Kiran\n",
      "Keep up the good work, Pushkar\n",
      "Keep up the good work, Ian\n",
      "Keep up the good work, Milind\n",
      "Keep up the good work, Ramesh\n",
      "Keep up the good work, Naresh\n",
      "Keep up the good work, Sachin\n",
      "Keep up the good work, Shailen\n"
     ]
    }
   ],
   "source": [
    "for x in students:\n",
    " print(f\"Keep up the good work, {x.title()}\")"
   ]
  },
  {
   "cell_type": "code",
   "execution_count": null,
   "metadata": {},
   "outputs": [],
   "source": [
    "#enhancement of the program\n",
    "#we wrote another print statement in the for loop"
   ]
  },
  {
   "cell_type": "code",
   "execution_count": 6,
   "metadata": {},
   "outputs": [
    {
     "name": "stdout",
     "output_type": "stream",
     "text": [
      "keep up the good work, Rohan\n",
      "Looking forward to receive an email from you, Rohan\n",
      "keep up the good work, Kiran\n",
      "Looking forward to receive an email from you, Kiran\n",
      "keep up the good work, Pushkar\n",
      "Looking forward to receive an email from you, Pushkar\n",
      "keep up the good work, Ian\n",
      "Looking forward to receive an email from you, Ian\n",
      "keep up the good work, Milind\n",
      "Looking forward to receive an email from you, Milind\n",
      "keep up the good work, Ramesh\n",
      "Looking forward to receive an email from you, Ramesh\n",
      "keep up the good work, Naresh\n",
      "Looking forward to receive an email from you, Naresh\n",
      "keep up the good work, Sachin\n",
      "Looking forward to receive an email from you, Sachin\n",
      "keep up the good work, Shailen\n",
      "Looking forward to receive an email from you, Shailen\n"
     ]
    }
   ],
   "source": [
    "for x in students:\n",
    "    print(f\"keep up the good work, {x.title()}\")\n",
    "    print(f\"Looking forward to receive an email from you, {x.title()}\")"
   ]
  },
  {
   "cell_type": "code",
   "execution_count": 8,
   "metadata": {},
   "outputs": [
    {
     "name": "stdout",
     "output_type": "stream",
     "text": [
      "keep up the good work, Rohan\n",
      "Looking forward to receive an email from you, Rohan\n",
      "keep up the good work, Kiran\n",
      "Looking forward to receive an email from you, Kiran\n",
      "keep up the good work, Pushkar\n",
      "Looking forward to receive an email from you, Pushkar\n",
      "keep up the good work, Ian\n",
      "Looking forward to receive an email from you, Ian\n",
      "keep up the good work, Milind\n",
      "Looking forward to receive an email from you, Milind\n",
      "keep up the good work, Ramesh\n",
      "Looking forward to receive an email from you, Ramesh\n",
      "keep up the good work, Naresh\n",
      "Looking forward to receive an email from you, Naresh\n",
      "keep up the good work, Sachin\n",
      "Looking forward to receive an email from you, Sachin\n",
      "keep up the good work, Shailen\n",
      "Looking forward to receive an email from you, Shailen\n",
      "See you next week!\n"
     ]
    }
   ],
   "source": [
    "for x in students:\n",
    "    print(f\"keep up the good work, {x.title()}\")\n",
    "    print(f\"Looking forward to receive an email from you, {x.title()}\")\n",
    "    \n",
    "print('See you next week!')"
   ]
  },
  {
   "cell_type": "code",
   "execution_count": null,
   "metadata": {},
   "outputs": [],
   "source": []
  },
  {
   "cell_type": "code",
   "execution_count": null,
   "metadata": {},
   "outputs": [],
   "source": []
  },
  {
   "cell_type": "code",
   "execution_count": null,
   "metadata": {},
   "outputs": [],
   "source": [
    "#writing out of the loop"
   ]
  },
  {
   "cell_type": "code",
   "execution_count": 9,
   "metadata": {},
   "outputs": [
    {
     "name": "stdout",
     "output_type": "stream",
     "text": [
      "keep up the good work, Rohan\n",
      "Looking forward to receive an email from you, Rohan\n",
      "\n",
      "keep up the good work, Kiran\n",
      "Looking forward to receive an email from you, Kiran\n",
      "\n",
      "keep up the good work, Pushkar\n",
      "Looking forward to receive an email from you, Pushkar\n",
      "\n",
      "keep up the good work, Ian\n",
      "Looking forward to receive an email from you, Ian\n",
      "\n",
      "keep up the good work, Milind\n",
      "Looking forward to receive an email from you, Milind\n",
      "\n",
      "keep up the good work, Ramesh\n",
      "Looking forward to receive an email from you, Ramesh\n",
      "\n",
      "keep up the good work, Naresh\n",
      "Looking forward to receive an email from you, Naresh\n",
      "\n",
      "keep up the good work, Sachin\n",
      "Looking forward to receive an email from you, Sachin\n",
      "\n",
      "keep up the good work, Shailen\n",
      "Looking forward to receive an email from you, Shailen\n",
      "\n",
      "See you next week!\n"
     ]
    }
   ],
   "source": [
    "for x in students:\n",
    "    print(f\"keep up the good work, {x.title()}\")\n",
    "    print(f\"Looking forward to receive an email from you, {x.title()}\\n\")\n",
    "    \n",
    "print('See you next week!')"
   ]
  },
  {
   "cell_type": "code",
   "execution_count": null,
   "metadata": {},
   "outputs": [],
   "source": []
  },
  {
   "cell_type": "code",
   "execution_count": null,
   "metadata": {},
   "outputs": [],
   "source": []
  },
  {
   "cell_type": "code",
   "execution_count": null,
   "metadata": {},
   "outputs": [],
   "source": []
  },
  {
   "cell_type": "code",
   "execution_count": null,
   "metadata": {},
   "outputs": [],
   "source": []
  },
  {
   "cell_type": "code",
   "execution_count": null,
   "metadata": {},
   "outputs": [],
   "source": []
  },
  {
   "cell_type": "code",
   "execution_count": null,
   "metadata": {},
   "outputs": [],
   "source": []
  }
 ],
 "metadata": {
  "kernelspec": {
   "display_name": "Python 3",
   "language": "python",
   "name": "python3"
  },
  "language_info": {
   "codemirror_mode": {
    "name": "ipython",
    "version": 3
   },
   "file_extension": ".py",
   "mimetype": "text/x-python",
   "name": "python",
   "nbconvert_exporter": "python",
   "pygments_lexer": "ipython3",
   "version": "3.8.5"
  }
 },
 "nbformat": 4,
 "nbformat_minor": 4
}
