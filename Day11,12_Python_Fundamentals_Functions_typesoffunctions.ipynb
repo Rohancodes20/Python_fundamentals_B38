{
 "cells": [
  {
   "cell_type": "code",
   "execution_count": 1,
   "metadata": {},
   "outputs": [
    {
     "name": "stdout",
     "output_type": "stream",
     "text": [
      "\n",
      "tell me something and I will repeat\n",
      " Type quit to stopHi Rohan\n",
      "Hi Rohan\n",
      "\n",
      "tell me something and I will repeat\n",
      " Type quit to stopHi Nattu\n",
      "Hi Nattu\n",
      "\n",
      "tell me something and I will repeat\n",
      " Type quit to stopquit\n",
      "quit\n"
     ]
    }
   ],
   "source": [
    "prompt = \"\\ntell me something and I will repeat\" #integrating while loop with user input method\n",
    "prompt += \"\\n Type quit to stop\"\n",
    "\n",
    "message = \" \"\n",
    "\n",
    "while message != 'quit':\n",
    "    message = input(prompt)\n",
    "    print(message)"
   ]
  },
  {
   "cell_type": "code",
   "execution_count": 2,
   "metadata": {},
   "outputs": [
    {
     "name": "stdout",
     "output_type": "stream",
     "text": [
      "\n",
      "tell me something and I will repeat\n",
      " Type quit to stopHi Rohan\n",
      "Hi Rohan\n",
      "\n",
      "tell me something and I will repeat\n",
      " Type quit to stopHi Mandar\n",
      "Hi Mandar\n",
      "\n",
      "tell me something and I will repeat\n",
      " Type quit to stopRishi\n",
      "Rishi\n",
      "\n",
      "tell me something and I will repeat\n",
      " Type quit to stopquit\n",
      "quit\n"
     ]
    }
   ],
   "source": [
    "prompt = \"\\ntell me something and I will repeat\"\n",
    "prompt += \"\\n Type quit to stop\"\n",
    "\n",
    "message = \" \"\n",
    "\n",
    "while message != 'quit':\n",
    "    message = input(prompt)\n",
    "    print(message)"
   ]
  },
  {
   "cell_type": "code",
   "execution_count": null,
   "metadata": {},
   "outputs": [],
   "source": []
  },
  {
   "cell_type": "code",
   "execution_count": null,
   "metadata": {},
   "outputs": [],
   "source": [
    "#defining a function\n",
    "#we use def to define a function\n",
    "#we use small case to define"
   ]
  },
  {
   "cell_type": "code",
   "execution_count": null,
   "metadata": {},
   "outputs": [],
   "source": [
    "req: write a code to greet"
   ]
  },
  {
   "cell_type": "code",
   "execution_count": 4,
   "metadata": {},
   "outputs": [],
   "source": [
    "def greet():\n",
    "    '''function to greet'''\n",
    "    print(hello)"
   ]
  },
  {
   "cell_type": "code",
   "execution_count": 5,
   "metadata": {},
   "outputs": [
    {
     "ename": "NameError",
     "evalue": "name 'hello' is not defined",
     "output_type": "error",
     "traceback": [
      "\u001b[1;31m---------------------------------------------------------------------------\u001b[0m",
      "\u001b[1;31mNameError\u001b[0m                                 Traceback (most recent call last)",
      "\u001b[1;32m<ipython-input-5-db845682bfe7>\u001b[0m in \u001b[0;36m<module>\u001b[1;34m\u001b[0m\n\u001b[1;32m----> 1\u001b[1;33m \u001b[0mgreet\u001b[0m\u001b[1;33m(\u001b[0m\u001b[1;33m)\u001b[0m\u001b[1;33m\u001b[0m\u001b[1;33m\u001b[0m\u001b[0m\n\u001b[0m",
      "\u001b[1;32m<ipython-input-4-b6614b08d5fa>\u001b[0m in \u001b[0;36mgreet\u001b[1;34m()\u001b[0m\n\u001b[0;32m      1\u001b[0m \u001b[1;32mdef\u001b[0m \u001b[0mgreet\u001b[0m\u001b[1;33m(\u001b[0m\u001b[1;33m)\u001b[0m\u001b[1;33m:\u001b[0m\u001b[1;33m\u001b[0m\u001b[1;33m\u001b[0m\u001b[0m\n\u001b[0;32m      2\u001b[0m     \u001b[1;34m'''function to greet'''\u001b[0m\u001b[1;33m\u001b[0m\u001b[1;33m\u001b[0m\u001b[0m\n\u001b[1;32m----> 3\u001b[1;33m     \u001b[0mprint\u001b[0m\u001b[1;33m(\u001b[0m\u001b[0mhello\u001b[0m\u001b[1;33m)\u001b[0m\u001b[1;33m\u001b[0m\u001b[1;33m\u001b[0m\u001b[0m\n\u001b[0m",
      "\u001b[1;31mNameError\u001b[0m: name 'hello' is not defined"
     ]
    }
   ],
   "source": [
    "greet()"
   ]
  },
  {
   "cell_type": "code",
   "execution_count": null,
   "metadata": {},
   "outputs": [],
   "source": []
  },
  {
   "cell_type": "code",
   "execution_count": 6,
   "metadata": {},
   "outputs": [],
   "source": [
    "def greet():\n",
    "    '''function to greet'''\n",
    "    print('hello student')"
   ]
  },
  {
   "cell_type": "code",
   "execution_count": 7,
   "metadata": {},
   "outputs": [
    {
     "name": "stdout",
     "output_type": "stream",
     "text": [
      "hello student\n"
     ]
    }
   ],
   "source": [
    "greet()"
   ]
  },
  {
   "cell_type": "code",
   "execution_count": null,
   "metadata": {},
   "outputs": [],
   "source": []
  },
  {
   "cell_type": "code",
   "execution_count": null,
   "metadata": {},
   "outputs": [],
   "source": [
    "req; create a code to greet a user"
   ]
  },
  {
   "cell_type": "code",
   "execution_count": 9,
   "metadata": {},
   "outputs": [],
   "source": [
    "def greetuser(username):\n",
    "    '''creating a function to greet user'''\n",
    "    print(f\"Helo {username.title()}, Welcome to the Company\")"
   ]
  },
  {
   "cell_type": "code",
   "execution_count": 10,
   "metadata": {},
   "outputs": [
    {
     "ename": "NameError",
     "evalue": "name 'Satish' is not defined",
     "output_type": "error",
     "traceback": [
      "\u001b[1;31m---------------------------------------------------------------------------\u001b[0m",
      "\u001b[1;31mNameError\u001b[0m                                 Traceback (most recent call last)",
      "\u001b[1;32m<ipython-input-10-5c44d9ad0a06>\u001b[0m in \u001b[0;36m<module>\u001b[1;34m\u001b[0m\n\u001b[1;32m----> 1\u001b[1;33m \u001b[0mgreetuser\u001b[0m\u001b[1;33m(\u001b[0m\u001b[0mSatish\u001b[0m\u001b[1;33m)\u001b[0m\u001b[1;33m\u001b[0m\u001b[1;33m\u001b[0m\u001b[0m\n\u001b[0m",
      "\u001b[1;31mNameError\u001b[0m: name 'Satish' is not defined"
     ]
    }
   ],
   "source": [
    "greetuser(Satish)"
   ]
  },
  {
   "cell_type": "code",
   "execution_count": null,
   "metadata": {},
   "outputs": [],
   "source": []
  },
  {
   "cell_type": "code",
   "execution_count": 11,
   "metadata": {},
   "outputs": [
    {
     "name": "stdout",
     "output_type": "stream",
     "text": [
      "Helo Satish, Welcome to the Company\n"
     ]
    }
   ],
   "source": [
    "greetuser(\"Satish\")"
   ]
  },
  {
   "cell_type": "code",
   "execution_count": null,
   "metadata": {},
   "outputs": [],
   "source": []
  },
  {
   "cell_type": "code",
   "execution_count": null,
   "metadata": {},
   "outputs": [],
   "source": [
    "req  def a fun define_pet to accept 2 params which are animal_type and animal_name"
   ]
  },
  {
   "cell_type": "code",
   "execution_count": 13,
   "metadata": {},
   "outputs": [
    {
     "ename": "SyntaxError",
     "evalue": "invalid syntax (<ipython-input-13-e8bbae2777cb>, line 1)",
     "output_type": "error",
     "traceback": [
      "\u001b[1;36m  File \u001b[1;32m\"<ipython-input-13-e8bbae2777cb>\"\u001b[1;36m, line \u001b[1;32m1\u001b[0m\n\u001b[1;33m    def define_pet(\"animal_type\",\"animal_name\"):\u001b[0m\n\u001b[1;37m                   ^\u001b[0m\n\u001b[1;31mSyntaxError\u001b[0m\u001b[1;31m:\u001b[0m invalid syntax\n"
     ]
    }
   ],
   "source": [
    "def define_pet(\"animal_type\",\"animal_name\"):  #does not take \"\" in params\n",
    "    '''define a fun to definr a pet'''\n",
    "    print(f\"I have {animal_type})\n",
    "    print(\"\\nmy {animal_type}'s name is {animal_name}\")"
   ]
  },
  {
   "cell_type": "code",
   "execution_count": null,
   "metadata": {},
   "outputs": [],
   "source": []
  },
  {
   "cell_type": "code",
   "execution_count": 15,
   "metadata": {},
   "outputs": [],
   "source": [
    "def define_pet(animal_type,animal_name):  #does not take \"\" in params\n",
    "    '''define a fun to definr a pet'''\n",
    "    print(f\"I have {animal_type}\")\n",
    "    print(\"\\nmy {animal_type}'s name is {animal_name.title()}\")"
   ]
  },
  {
   "cell_type": "code",
   "execution_count": 16,
   "metadata": {},
   "outputs": [
    {
     "name": "stdout",
     "output_type": "stream",
     "text": [
      "I have dog\n",
      "\n",
      "my {animal_type}'s name is {animal_name}\n"
     ]
    }
   ],
   "source": [
    "define_pet('dog','rex')  #here I did mistake of not defining f strin"
   ]
  },
  {
   "cell_type": "code",
   "execution_count": null,
   "metadata": {},
   "outputs": [],
   "source": []
  },
  {
   "cell_type": "code",
   "execution_count": 17,
   "metadata": {},
   "outputs": [],
   "source": [
    "def define_pet(animal_type,animal_name):  #does not take \"\" in params\n",
    "    '''define a fun to definr a pet'''\n",
    "    print(f\"I have {animal_type}\")\n",
    "    print(f\"\\nmy {animal_type}'s name is {animal_name.title()}\")"
   ]
  },
  {
   "cell_type": "code",
   "execution_count": 18,
   "metadata": {},
   "outputs": [
    {
     "name": "stdout",
     "output_type": "stream",
     "text": [
      "I have dog\n",
      "\n",
      "my dog's name is Rex\n"
     ]
    }
   ],
   "source": [
    "define_pet('dog','rex')"
   ]
  },
  {
   "cell_type": "code",
   "execution_count": 19,
   "metadata": {},
   "outputs": [
    {
     "name": "stdout",
     "output_type": "stream",
     "text": [
      "I have Crocodile\n",
      "\n",
      "my Crocodile's name is Pollard\n"
     ]
    }
   ],
   "source": [
    "define_pet('Crocodile','Pollard')"
   ]
  },
  {
   "cell_type": "code",
   "execution_count": 21,
   "metadata": {},
   "outputs": [
    {
     "name": "stdout",
     "output_type": "stream",
     "text": [
      "I have snowbell\n",
      "\n",
      "my snowbell's name is Cat\n"
     ]
    }
   ],
   "source": [
    "define_pet('snowbell','cat') #this does not make sense if argument are not passed in order of the params define, this is the limitation in the positional arguments, hence we created keyword argument "
   ]
  },
  {
   "cell_type": "code",
   "execution_count": null,
   "metadata": {},
   "outputs": [],
   "source": []
  },
  {
   "cell_type": "code",
   "execution_count": null,
   "metadata": {},
   "outputs": [],
   "source": [
    "#keyword argument "
   ]
  },
  {
   "cell_type": "code",
   "execution_count": 22,
   "metadata": {},
   "outputs": [
    {
     "name": "stdout",
     "output_type": "stream",
     "text": [
      "I have cat\n",
      "\n",
      "my cat's name is Snowbell\n"
     ]
    }
   ],
   "source": [
    "define_pet(animal_name=\"snowbell\",animal_type='cat')"
   ]
  },
  {
   "cell_type": "code",
   "execution_count": null,
   "metadata": {},
   "outputs": [],
   "source": []
  },
  {
   "cell_type": "code",
   "execution_count": null,
   "metadata": {},
   "outputs": [],
   "source": [
    "#default argument\n",
    "•\tSuppose if anyone forgets to give the second argument, we want to assume it as a dog and prin the statement.\n",
    "•\tTo do so we define a argument in the code is itself, eg we defined animaltype as dog already in the function. This is called default argument.\n",
    "•\tImportant rule: a default argument must be defined at the end otherwise it wont take it and give the erro as shown in the below eg.\n"
   ]
  },
  {
   "cell_type": "code",
   "execution_count": 23,
   "metadata": {},
   "outputs": [
    {
     "ename": "SyntaxError",
     "evalue": "non-default argument follows default argument (<ipython-input-23-df832ab98bbb>, line 1)",
     "output_type": "error",
     "traceback": [
      "\u001b[1;36m  File \u001b[1;32m\"<ipython-input-23-df832ab98bbb>\"\u001b[1;36m, line \u001b[1;32m1\u001b[0m\n\u001b[1;33m    def define_pet(animal_type='dog',animal_name):\u001b[0m\n\u001b[1;37m                   ^\u001b[0m\n\u001b[1;31mSyntaxError\u001b[0m\u001b[1;31m:\u001b[0m non-default argument follows default argument\n"
     ]
    }
   ],
   "source": [
    "def define_pet(animal_type='dog',animal_name): \n",
    "    '''define a fun to definr a pet'''\n",
    "    print(f\"I have {animal_type}\")\n",
    "    print(f\"\\nmy {animal_type}'s name is {animal_name.title()}\")"
   ]
  },
  {
   "cell_type": "code",
   "execution_count": null,
   "metadata": {},
   "outputs": [],
   "source": []
  },
  {
   "cell_type": "code",
   "execution_count": 24,
   "metadata": {},
   "outputs": [],
   "source": [
    "def define_pet(animal_name, animal_type='dog'): \n",
    "    '''define a fun to definr a pet'''\n",
    "    print(f\"I have {animal_type}\")\n",
    "    print(f\"\\nmy {animal_type}'s name is {animal_name.title()}\")"
   ]
  },
  {
   "cell_type": "code",
   "execution_count": 26,
   "metadata": {},
   "outputs": [
    {
     "name": "stdout",
     "output_type": "stream",
     "text": [
      "I have dog\n",
      "\n",
      "my dog's name is Bruno007\n"
     ]
    }
   ],
   "source": [
    "define_pet('bruno007'\n",
    "        )"
   ]
  },
  {
   "cell_type": "code",
   "execution_count": null,
   "metadata": {},
   "outputs": [],
   "source": []
  },
  {
   "cell_type": "code",
   "execution_count": null,
   "metadata": {},
   "outputs": [],
   "source": [
    "#Arbitary arguments\n",
    "#adding a star in front of the parameter allows to take as many argument as possible."
   ]
  },
  {
   "cell_type": "code",
   "execution_count": null,
   "metadata": {},
   "outputs": [],
   "source": [
    "req: we want to list all the toppings on the pizza"
   ]
  },
  {
   "cell_type": "code",
   "execution_count": 27,
   "metadata": {},
   "outputs": [],
   "source": [
    "def pizza_toppings(toppings):\n",
    "    '''Creating a fun to list the pizza tppings'''\n",
    "    print(toppings)\n"
   ]
  },
  {
   "cell_type": "code",
   "execution_count": 28,
   "metadata": {},
   "outputs": [
    {
     "name": "stdout",
     "output_type": "stream",
     "text": [
      "corn\n"
     ]
    }
   ],
   "source": [
    "#ankush comes to order pizza and orders 1 topping \n",
    "\n",
    "pizza_toppings('corn')"
   ]
  },
  {
   "cell_type": "code",
   "execution_count": 29,
   "metadata": {},
   "outputs": [
    {
     "ename": "TypeError",
     "evalue": "pizza_toppings() takes 1 positional argument but 3 were given",
     "output_type": "error",
     "traceback": [
      "\u001b[1;31m---------------------------------------------------------------------------\u001b[0m",
      "\u001b[1;31mTypeError\u001b[0m                                 Traceback (most recent call last)",
      "\u001b[1;32m<ipython-input-29-49dde0e2c0fe>\u001b[0m in \u001b[0;36m<module>\u001b[1;34m\u001b[0m\n\u001b[0;32m      1\u001b[0m \u001b[1;31m#Sumit comes to order and order 3 toppings\u001b[0m\u001b[1;33m\u001b[0m\u001b[1;33m\u001b[0m\u001b[1;33m\u001b[0m\u001b[0m\n\u001b[1;32m----> 2\u001b[1;33m \u001b[0mpizza_toppings\u001b[0m\u001b[1;33m(\u001b[0m\u001b[1;34m'corn'\u001b[0m\u001b[1;33m,\u001b[0m\u001b[1;34m'chicken'\u001b[0m\u001b[1;33m,\u001b[0m\u001b[1;34m'olives'\u001b[0m\u001b[1;33m)\u001b[0m\u001b[1;33m\u001b[0m\u001b[1;33m\u001b[0m\u001b[0m\n\u001b[0m",
      "\u001b[1;31mTypeError\u001b[0m: pizza_toppings() takes 1 positional argument but 3 were given"
     ]
    }
   ],
   "source": [
    "#Sumit comes to order and order 3 toppings\n",
    "pizza_toppings('corn','chicken','olives')"
   ]
  },
  {
   "cell_type": "code",
   "execution_count": 31,
   "metadata": {},
   "outputs": [],
   "source": [
    "def pizza_toppings(*toppings):\n",
    "    '''Creating a fun to list the pizza tppings'''\n",
    "    print(toppings)"
   ]
  },
  {
   "cell_type": "code",
   "execution_count": 32,
   "metadata": {},
   "outputs": [
    {
     "name": "stdout",
     "output_type": "stream",
     "text": [
      "('corn', 'chicken', 'olives')\n"
     ]
    }
   ],
   "source": [
    "#Sumit comes to order and order 3 toppings\n",
    "pizza_toppings('corn','chicken','olives')"
   ]
  },
  {
   "cell_type": "code",
   "execution_count": 33,
   "metadata": {},
   "outputs": [
    {
     "name": "stdout",
     "output_type": "stream",
     "text": [
      "('corn', 'chicken', 'olives', 'tomato', 'paneer')\n"
     ]
    }
   ],
   "source": [
    "#tejas comes\n",
    "pizza_toppings('corn','chicken','olives','tomato','paneer')"
   ]
  },
  {
   "cell_type": "code",
   "execution_count": null,
   "metadata": {},
   "outputs": [],
   "source": []
  },
  {
   "cell_type": "code",
   "execution_count": null,
   "metadata": {},
   "outputs": [],
   "source": []
  },
  {
   "cell_type": "code",
   "execution_count": null,
   "metadata": {},
   "outputs": [],
   "source": []
  },
  {
   "cell_type": "code",
   "execution_count": null,
   "metadata": {},
   "outputs": [],
   "source": []
  },
  {
   "cell_type": "code",
   "execution_count": null,
   "metadata": {},
   "outputs": [],
   "source": []
  },
  {
   "cell_type": "code",
   "execution_count": null,
   "metadata": {},
   "outputs": [],
   "source": []
  },
  {
   "cell_type": "code",
   "execution_count": null,
   "metadata": {},
   "outputs": [],
   "source": []
  },
  {
   "cell_type": "code",
   "execution_count": null,
   "metadata": {},
   "outputs": [],
   "source": []
  },
  {
   "cell_type": "code",
   "execution_count": null,
   "metadata": {},
   "outputs": [],
   "source": []
  },
  {
   "cell_type": "code",
   "execution_count": null,
   "metadata": {},
   "outputs": [],
   "source": []
  },
  {
   "cell_type": "code",
   "execution_count": null,
   "metadata": {},
   "outputs": [],
   "source": []
  },
  {
   "cell_type": "code",
   "execution_count": null,
   "metadata": {},
   "outputs": [],
   "source": []
  }
 ],
 "metadata": {
  "kernelspec": {
   "display_name": "Python 3",
   "language": "python",
   "name": "python3"
  },
  "language_info": {
   "codemirror_mode": {
    "name": "ipython",
    "version": 3
   },
   "file_extension": ".py",
   "mimetype": "text/x-python",
   "name": "python",
   "nbconvert_exporter": "python",
   "pygments_lexer": "ipython3",
   "version": "3.8.5"
  }
 },
 "nbformat": 4,
 "nbformat_minor": 4
}
